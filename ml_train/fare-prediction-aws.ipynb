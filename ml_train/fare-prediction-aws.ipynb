{
 "cells": [
  {
   "cell_type": "code",
   "execution_count": 1,
   "id": "b2bd82d7",
   "metadata": {},
   "outputs": [
    {
     "name": "stdout",
     "output_type": "stream",
     "text": [
      "Python 3.10.9\n"
     ]
    }
   ],
   "source": [
    "!python -V"
   ]
  },
  {
   "cell_type": "code",
   "execution_count": 2,
   "id": "41062d8a",
   "metadata": {},
   "outputs": [],
   "source": [
    "import pandas as pd\n",
    "import boto3\n",
    "import s3fs"
   ]
  },
  {
   "cell_type": "code",
   "execution_count": 3,
   "id": "c984c564",
   "metadata": {},
   "outputs": [],
   "source": [
    "import pickle"
   ]
  },
  {
   "cell_type": "code",
   "execution_count": 4,
   "id": "4add538c",
   "metadata": {},
   "outputs": [],
   "source": [
    "import seaborn as sns\n",
    "import matplotlib.pyplot as plt"
   ]
  },
  {
   "cell_type": "code",
   "execution_count": 5,
   "id": "8b135c2b",
   "metadata": {},
   "outputs": [],
   "source": [
    "from sklearn.feature_extraction import DictVectorizer\n",
    "from sklearn.linear_model import LinearRegression\n",
    "from sklearn.linear_model import Lasso\n",
    "from sklearn.linear_model import Ridge\n",
    "\n",
    "from sklearn.metrics import mean_squared_error"
   ]
  },
  {
   "cell_type": "code",
   "execution_count": 6,
   "id": "1464985f",
   "metadata": {},
   "outputs": [
    {
     "name": "stdout",
     "output_type": "stream",
     "text": [
      "tracking URI: 'http://ec2-52-4-31-201.compute-1.amazonaws.com:5000'\n"
     ]
    },
    {
     "data": {
      "text/plain": [
       "<Experiment: artifact_location='s3://mlflow-artifacts-remote-ahm-amm/1', creation_time=1690297034069, experiment_id='1', last_update_time=1690297034069, lifecycle_stage='active', name='wdc-taxi-ride-fair-prediction-s3', tags={}>"
      ]
     },
     "execution_count": 6,
     "metadata": {},
     "output_type": "execute_result"
    }
   ],
   "source": [
    "import mlflow\n",
    "import os\n",
    "\n",
    "\n",
    "# Fill in with your AWS profile. \n",
    "# See https://docs.aws.amazon.com/cli/latest/userguide/cli-configure-files.html#cli-configure-files-using-profiles\n",
    "os.environ[\"AWS_PROFILE\"] = \"\" \n",
    "\n",
    "# Fill TRACKING_SERVER_HOST with the public DNS of the EC2 instance.\n",
    "TRACKING_SERVER_HOST = \"ec2-52-4-31-201.compute-1.amazonaws.com\" \n",
    "mlflow.set_tracking_uri(f\"http://{TRACKING_SERVER_HOST}:5000\")\n",
    "\n",
    "print(f\"tracking URI: '{mlflow.get_tracking_uri()}'\")\n",
    "mlflow.set_experiment(\"wdc-taxi-ride-fair-prediction-s3\")"
   ]
  },
  {
   "cell_type": "code",
   "execution_count": 9,
   "id": "f9e6479e",
   "metadata": {},
   "outputs": [],
   "source": [
    "def read_dataframe(filename):\n",
    "    \n",
    "    # Setup AWS S3 \n",
    "    session = boto3.Session(profile_name='default')\n",
    "    credentials = session.get_credentials()\n",
    "    aws_access_key_id = credentials.access_key\n",
    "    aws_secret_access_key = credentials.secret_key\n",
    "    region_name = session.region_name\n",
    "\n",
    "    fs = s3fs.S3FileSystem(\n",
    "        profile='default',\n",
    "        key=aws_access_key_id,\n",
    "        secret=aws_secret_access_key,\n",
    "        client_kwargs={\n",
    "        'region_name': region_name\n",
    "    }\n",
    "    )\n",
    "\n",
    "    # Read the TXT file using '|' as the delimiter and specifying the column names\n",
    "    df = pd.read_csv(filename, delimiter='|', storage_options=dict(profile='default'))\n",
    "\n",
    "    # Extract the required columns\n",
    "    df = df[['FAREAMOUNT', 'ORIGIN_BLOCK_LATITUDE', 'ORIGIN_BLOCK_LONGITUDE', 'DESTINATION_BLOCK_LATITUDE', 'DESTINATION_BLOCK_LONGITUDE', 'ORIGINDATETIME_TR']]\n",
    "\n",
    "    # Convert all headers to lowercase\n",
    "    df.columns = df.columns.str.lower()\n",
    "    \n",
    "    # Drop rows with missing values\n",
    "    df = df.dropna()\n",
    "    \n",
    "    # Print the resulting DataFrame\n",
    "    print(df.head(1))\n",
    "\n",
    "    return df"
   ]
  },
  {
   "cell_type": "code",
   "execution_count": 10,
   "id": "8029eba0",
   "metadata": {},
   "outputs": [
    {
     "name": "stdout",
     "output_type": "stream",
     "text": [
      "   fareamount  origin_block_latitude  origin_block_longitude   \n",
      "0        3.25              38.907734              -77.063516  \\\n",
      "\n",
      "   destination_block_latitude  destination_block_longitude origindatetime_tr  \n",
      "0                   38.907734                   -77.063516  01/01/2018 04:00  \n",
      "   fareamount  origin_block_latitude  origin_block_longitude   \n",
      "0         7.3              38.901486              -77.021916  \\\n",
      "\n",
      "   destination_block_latitude  destination_block_longitude origindatetime_tr  \n",
      "0                    38.89379                   -77.012491  02/06/2019 16:00  \n"
     ]
    }
   ],
   "source": [
    "S3_BUCKET_NAME = 'mlflow-artifacts-remote-ahm-amm'\n",
    "df_train = read_dataframe(f's3://{S3_BUCKET_NAME}/data/train/taxi_2018_01.txt')\n",
    "df_val = read_dataframe(f's3://{S3_BUCKET_NAME}/data/val/taxi_2019_02.txt')"
   ]
  },
  {
   "cell_type": "code",
   "execution_count": 11,
   "id": "f6f2f0eb",
   "metadata": {},
   "outputs": [
    {
     "data": {
      "text/plain": [
       "(510169, 437856)"
      ]
     },
     "execution_count": 11,
     "metadata": {},
     "output_type": "execute_result"
    }
   ],
   "source": [
    "len(df_train), len(df_val)"
   ]
  },
  {
   "cell_type": "code",
   "execution_count": 12,
   "id": "c5cbfc25",
   "metadata": {},
   "outputs": [],
   "source": [
    "def transform_data(df):\n",
    "    \n",
    "    # Convert ORIGINDATETIME_TR column to pandas datetime format\n",
    "    df['origindatetime_tr'] = pd.to_datetime(df['origindatetime_tr'])\n",
    "\n",
    "    # create new columns for month, day of week, and hour\n",
    "    df['month_integer'] = df['origindatetime_tr'].dt.month\n",
    "    df['dow_integer'] = df['origindatetime_tr'].dt.dayofweek\n",
    "    df['hour_integer'] = df['origindatetime_tr'].dt.hour\n",
    "    \n",
    "   # select the final required columns\n",
    "    df = df[['fareamount', 'origin_block_latitude', 'origin_block_longitude', 'destination_block_latitude', 'destination_block_longitude', \n",
    "             'month_integer', 'dow_integer', 'hour_integer']]\n",
    "    \n",
    "    return df"
   ]
  },
  {
   "cell_type": "code",
   "execution_count": 13,
   "id": "1e9fb68b",
   "metadata": {},
   "outputs": [],
   "source": [
    "df_train = transform_data(df_train)\n",
    "df_val = transform_data(df_val)\n",
    "categorical = ['month_integer', 'dow_integer', 'hour_integer']\n",
    "numerical = ['fareamount', 'origin_block_latitude', 'origin_block_longitude', 'destination_block_latitude', 'destination_block_longitude']\n",
    "dv = DictVectorizer()\n",
    "train_dicts = df_train[categorical + numerical].to_dict(orient='records')\n",
    "X_train = dv.fit_transform(train_dicts)\n",
    "\n",
    "val_dicts = df_val[categorical + numerical].to_dict(orient='records')\n",
    "X_val = dv.transform(val_dicts)\n",
    "target = 'fareamount'\n",
    "y_train = df_train[target].values\n",
    "y_val = df_val[target].values"
   ]
  },
  {
   "cell_type": "code",
   "execution_count": 14,
   "id": "429e2394",
   "metadata": {},
   "outputs": [
    {
     "ename": "FileNotFoundError",
     "evalue": "[Errno 2] No such file or directory: 'models/lin_reg.bin'",
     "output_type": "error",
     "traceback": [
      "\u001b[0;31m---------------------------------------------------------------------------\u001b[0m",
      "\u001b[0;31mFileNotFoundError\u001b[0m                         Traceback (most recent call last)",
      "Cell \u001b[0;32mIn[14], line 17\u001b[0m\n\u001b[1;32m     14\u001b[0m rmse \u001b[39m=\u001b[39m mean_squared_error(y_val, y_pred, squared\u001b[39m=\u001b[39m\u001b[39mFalse\u001b[39;00m)\n\u001b[1;32m     15\u001b[0m mlflow\u001b[39m.\u001b[39mlog_metric(\u001b[39m\"\u001b[39m\u001b[39mrmse\u001b[39m\u001b[39m\"\u001b[39m, rmse)\n\u001b[0;32m---> 17\u001b[0m \u001b[39mwith\u001b[39;00m \u001b[39mopen\u001b[39;49m(\u001b[39m'\u001b[39;49m\u001b[39mmodels/lin_reg.bin\u001b[39;49m\u001b[39m'\u001b[39;49m, \u001b[39m'\u001b[39;49m\u001b[39mwb\u001b[39;49m\u001b[39m'\u001b[39;49m) \u001b[39mas\u001b[39;00m f_out:\n\u001b[1;32m     18\u001b[0m     pickle\u001b[39m.\u001b[39mdump((dv, lr), f_out)\n\u001b[1;32m     20\u001b[0m mlflow\u001b[39m.\u001b[39mlog_artifact(local_path\u001b[39m=\u001b[39m\u001b[39m\"\u001b[39m\u001b[39mmodels/lin_reg.bin\u001b[39m\u001b[39m\"\u001b[39m, artifact_path\u001b[39m=\u001b[39m\u001b[39m\"\u001b[39m\u001b[39mmodels_pickle\u001b[39m\u001b[39m\"\u001b[39m)\n",
      "File \u001b[0;32m~/.local/share/virtualenvs/ml_train-XsW6FPn3/lib/python3.10/site-packages/IPython/core/interactiveshell.py:284\u001b[0m, in \u001b[0;36m_modified_open\u001b[0;34m(file, *args, **kwargs)\u001b[0m\n\u001b[1;32m    277\u001b[0m \u001b[39mif\u001b[39;00m file \u001b[39min\u001b[39;00m {\u001b[39m0\u001b[39m, \u001b[39m1\u001b[39m, \u001b[39m2\u001b[39m}:\n\u001b[1;32m    278\u001b[0m     \u001b[39mraise\u001b[39;00m \u001b[39mValueError\u001b[39;00m(\n\u001b[1;32m    279\u001b[0m         \u001b[39mf\u001b[39m\u001b[39m\"\u001b[39m\u001b[39mIPython won\u001b[39m\u001b[39m'\u001b[39m\u001b[39mt let you open fd=\u001b[39m\u001b[39m{\u001b[39;00mfile\u001b[39m}\u001b[39;00m\u001b[39m by default \u001b[39m\u001b[39m\"\u001b[39m\n\u001b[1;32m    280\u001b[0m         \u001b[39m\"\u001b[39m\u001b[39mas it is likely to crash IPython. If you know what you are doing, \u001b[39m\u001b[39m\"\u001b[39m\n\u001b[1;32m    281\u001b[0m         \u001b[39m\"\u001b[39m\u001b[39myou can use builtins\u001b[39m\u001b[39m'\u001b[39m\u001b[39m open.\u001b[39m\u001b[39m\"\u001b[39m\n\u001b[1;32m    282\u001b[0m     )\n\u001b[0;32m--> 284\u001b[0m \u001b[39mreturn\u001b[39;00m io_open(file, \u001b[39m*\u001b[39;49margs, \u001b[39m*\u001b[39;49m\u001b[39m*\u001b[39;49mkwargs)\n",
      "\u001b[0;31mFileNotFoundError\u001b[0m: [Errno 2] No such file or directory: 'models/lin_reg.bin'"
     ]
    }
   ],
   "source": [
    "with mlflow.start_run():\n",
    "    \n",
    "    mlflow.set_tag(\"developer\", \"ahmad\")\n",
    "    mlflow.set_tag(\"model\", \"lin_reg\")\n",
    "    \n",
    "    mlflow.log_param(\"train-data-path\", f's3://{S3_BUCKET_NAME}/data/train/taxi_2018_01.txt')\n",
    "    mlflow.log_param(\"valid-data-path\", f's3://{S3_BUCKET_NAME}/data/val/taxi_2019_02.txt')\n",
    "    \n",
    "    lr = LinearRegression()\n",
    "    lr.fit(X_train, y_train)\n",
    "\n",
    "    y_pred = lr.predict(X_val)\n",
    "\n",
    "    rmse = mean_squared_error(y_val, y_pred, squared=False)\n",
    "    mlflow.log_metric(\"rmse\", rmse)\n",
    "    \n",
    "    with open('models/lin_reg.bin', 'wb') as f_out:\n",
    "        pickle.dump((dv, lr), f_out)\n",
    "\n",
    "    mlflow.log_artifact(local_path=\"models/lin_reg.bin\", artifact_path=\"models_pickle\")"
   ]
  },
  {
   "cell_type": "code",
   "execution_count": null,
   "id": "a4999b94",
   "metadata": {},
   "outputs": [],
   "source": [
    "with mlflow.start_run():\n",
    "\n",
    "    mlflow.set_tag(\"developer\", \"ahmad\")\n",
    "    mlflow.set_tag(\"model\", \"lasso\")\n",
    "\n",
    "    mlflow.log_param(\"train-data-path\", f's3://{S3_BUCKET_NAME}/data/train/taxi_2018_01.txt')\n",
    "    mlflow.log_param(\"valid-data-path\", f's3://{S3_BUCKET_NAME}/data/val/taxi_2019_02.txt')\n",
    "\n",
    "    alpha = 0.1\n",
    "    mlflow.log_param(\"alpha\", alpha)\n",
    "    lr = Lasso(alpha)\n",
    "    lr.fit(X_train, y_train)\n",
    "\n",
    "    y_pred = lr.predict(X_val)\n",
    "    rmse = mean_squared_error(y_val, y_pred, squared=False)\n",
    "    mlflow.log_metric(\"rmse\", rmse)\n",
    "    \n",
    "    with open('models/lasso.bin', 'wb') as f_out:\n",
    "        pickle.dump((dv, lr), f_out)\n",
    "\n",
    "    mlflow.log_artifact(local_path=\"models/lasso.bin\", artifact_path=\"models_pickle\")"
   ]
  },
  {
   "cell_type": "code",
   "execution_count": null,
   "id": "5f56e97b",
   "metadata": {},
   "outputs": [],
   "source": [
    "import xgboost as xgb"
   ]
  },
  {
   "cell_type": "code",
   "execution_count": null,
   "id": "907dc6a2",
   "metadata": {},
   "outputs": [],
   "source": [
    "from hyperopt import fmin, tpe, hp, STATUS_OK, Trials\n",
    "from hyperopt.pyll import scope"
   ]
  },
  {
   "cell_type": "code",
   "execution_count": null,
   "id": "091ab328",
   "metadata": {},
   "outputs": [],
   "source": [
    "train = xgb.DMatrix(X_train, label=y_train)\n",
    "valid = xgb.DMatrix(X_val, label=y_val)"
   ]
  },
  {
   "cell_type": "code",
   "execution_count": null,
   "id": "c2d84b26",
   "metadata": {},
   "outputs": [],
   "source": [
    "def objective(params):\n",
    "    with mlflow.start_run():\n",
    "        mlflow.set_tag(\"developer\", \"ahmad\")\n",
    "        mlflow.set_tag(\"model\", \"xgboost_hp\")\n",
    "        mlflow.log_param(\"train-data-path\", f's3://{S3_BUCKET_NAME}/data/train/taxi_2018_01.txt')\n",
    "        mlflow.log_param(\"valid-data-path\", f's3://{S3_BUCKET_NAME}/data/val/taxi_2019_02.txt')\n",
    "        mlflow.log_params(params)\n",
    "        booster = xgb.train(\n",
    "            params=params,\n",
    "            dtrain=train,\n",
    "            num_boost_round=1000,\n",
    "            evals=[(valid, 'validation')],\n",
    "            early_stopping_rounds=50\n",
    "        )\n",
    "        y_pred = booster.predict(valid)\n",
    "        rmse = mean_squared_error(y_val, y_pred, squared=False)\n",
    "        mlflow.log_metric(\"rmse\", rmse)\n",
    "\n",
    "    return {'loss': rmse, 'status': STATUS_OK}"
   ]
  },
  {
   "cell_type": "code",
   "execution_count": null,
   "id": "6b1f77f5",
   "metadata": {},
   "outputs": [],
   "source": [
    "search_space = {\n",
    "    'max_depth': scope.int(hp.quniform('max_depth', 4, 100, 1)),\n",
    "    'learning_rate': hp.loguniform('learning_rate', -3, 0),\n",
    "    'reg_alpha': hp.loguniform('reg_alpha', -5, -1),\n",
    "    'reg_lambda': hp.loguniform('reg_lambda', -6, -1),\n",
    "    'min_child_weight': hp.loguniform('min_child_weight', -1, 3),\n",
    "    'objective': 'reg:linear',\n",
    "    'seed': 42\n",
    "}\n",
    "\n",
    "best_result = fmin(\n",
    "    fn=objective,\n",
    "    space=search_space,\n",
    "    algo=tpe.suggest,\n",
    "    max_evals=2,\n",
    "    trials=Trials()\n",
    ")"
   ]
  },
  {
   "cell_type": "code",
   "execution_count": null,
   "id": "fc4d5283",
   "metadata": {},
   "outputs": [],
   "source": [
    "mlflow.xgboost.autolog(disable=True)"
   ]
  },
  {
   "cell_type": "code",
   "execution_count": null,
   "id": "0e8cd729",
   "metadata": {},
   "outputs": [],
   "source": [
    "with mlflow.start_run():\n",
    "    mlflow.set_tag(\"developer\", \"ahmad\")\n",
    "    mlflow.set_tag(\"model\", \"xgboost_best\")\n",
    "    mlflow.log_param(\"train-data-path\", f's3://{S3_BUCKET_NAME}/data/train/taxi_2018_01.txt')\n",
    "    mlflow.log_param(\"valid-data-path\", f's3://{S3_BUCKET_NAME}/data/val/taxi_2019_02.txt')\n",
    "    train = xgb.DMatrix(X_train, label=y_train)\n",
    "    valid = xgb.DMatrix(X_val, label=y_val)\n",
    "\n",
    "    best_params = {\n",
    "        'learning_rate': 0.06004343200192765,\n",
    "        'max_depth': 87,\n",
    "        'min_child_weight': 0.9679753664722114,\n",
    "        'objective': 'reg:linear',\n",
    "        'reg_alpha': 0.006814914206560178,\n",
    "        'reg_lambda': 0.004139531731897862,\n",
    "        'seed': 42\n",
    "    }\n",
    "\n",
    "    mlflow.log_params(best_params)\n",
    "\n",
    "    booster = xgb.train(\n",
    "        params=best_params,\n",
    "        dtrain=train,\n",
    "        num_boost_round=1000,\n",
    "        evals=[(valid, 'validation')],\n",
    "        early_stopping_rounds=2\n",
    "    )\n",
    "\n",
    "    y_pred = booster.predict(valid)\n",
    "    rmse = mean_squared_error(y_val, y_pred, squared=False)\n",
    "    mlflow.log_metric(\"rmse\", rmse)\n",
    "\n",
    "    with open(\"models/preprocessor.b\", \"wb\") as f_out:\n",
    "        pickle.dump(dv, f_out)\n",
    "    mlflow.log_artifact(\"models/preprocessor.b\", artifact_path=\"preprocessor\")\n",
    "    \n",
    "    with open('models/xgboost_best.bin', 'wb') as f_out:\n",
    "        pickle.dump((booster), f_out)\n",
    "\n",
    "    mlflow.xgboost.log_model(booster, artifact_path=\"models_mlflow\")"
   ]
  }
 ],
 "metadata": {
  "hide_input": false,
  "interpreter": {
   "hash": "0848c9d6c7d415ad6c477ff7ff8e98694d1a4aa96d0deee89244642e6b630036"
  },
  "kernelspec": {
   "display_name": "Python 3 (ipykernel)",
   "language": "python",
   "name": "python3"
  },
  "language_info": {
   "codemirror_mode": {
    "name": "ipython",
    "version": 3
   },
   "file_extension": ".py",
   "mimetype": "text/x-python",
   "name": "python",
   "nbconvert_exporter": "python",
   "pygments_lexer": "ipython3",
   "version": "3.10.9"
  }
 },
 "nbformat": 4,
 "nbformat_minor": 5
}
