{
 "cells": [
  {
   "cell_type": "code",
   "execution_count": 21,
   "id": "b2bd82d7",
   "metadata": {},
   "outputs": [
    {
     "name": "stdout",
     "output_type": "stream",
     "text": [
      "Python 3.10.9\n"
     ]
    }
   ],
   "source": [
    "!python -V"
   ]
  },
  {
   "cell_type": "code",
   "execution_count": 22,
   "id": "41062d8a",
   "metadata": {},
   "outputs": [],
   "source": [
    "import pandas as pd\n",
    "import boto3\n",
    "import s3fs"
   ]
  },
  {
   "cell_type": "code",
   "execution_count": 23,
   "id": "c984c564",
   "metadata": {},
   "outputs": [],
   "source": [
    "import pickle"
   ]
  },
  {
   "cell_type": "code",
   "execution_count": 24,
   "id": "4add538c",
   "metadata": {},
   "outputs": [],
   "source": [
    "import seaborn as sns\n",
    "import matplotlib.pyplot as plt"
   ]
  },
  {
   "cell_type": "code",
   "execution_count": 25,
   "id": "8b135c2b",
   "metadata": {},
   "outputs": [],
   "source": [
    "from sklearn.feature_extraction import DictVectorizer\n",
    "from sklearn.linear_model import LinearRegression\n",
    "from sklearn.linear_model import Lasso\n",
    "from sklearn.linear_model import Ridge\n",
    "\n",
    "from sklearn.metrics import mean_squared_error"
   ]
  },
  {
   "cell_type": "code",
   "execution_count": 26,
   "id": "1464985f",
   "metadata": {},
   "outputs": [
    {
     "name": "stdout",
     "output_type": "stream",
     "text": [
      "tracking URI: 'http://ec2-52-4-31-201.compute-1.amazonaws.com:5000'\n"
     ]
    },
    {
     "data": {
      "text/plain": [
       "<Experiment: artifact_location='s3://mlflow-artifacts-remote-ahm-amm/2', creation_time=1690722441341, experiment_id='2', last_update_time=1690722441341, lifecycle_stage='active', name='wdc-taxi-ride-fair-prediction-s3', tags={}>"
      ]
     },
     "execution_count": 26,
     "metadata": {},
     "output_type": "execute_result"
    }
   ],
   "source": [
    "import mlflow\n",
    "import os\n",
    "\n",
    "\n",
    "# Fill in with your AWS profile. \n",
    "# See https://docs.aws.amazon.com/cli/latest/userguide/cli-configure-files.html#cli-configure-files-using-profiles\n",
    "os.environ[\"AWS_PROFILE\"] = \"\" \n",
    "\n",
    "# Fill TRACKING_SERVER_HOST with the public DNS of the EC2 instance.\n",
    "TRACKING_SERVER_HOST = \"ec2-52-4-31-201.compute-1.amazonaws.com\" \n",
    "mlflow.set_tracking_uri(f\"http://{TRACKING_SERVER_HOST}:5000\")\n",
    "\n",
    "print(f\"tracking URI: '{mlflow.get_tracking_uri()}'\")\n",
    "mlflow.set_experiment(\"wdc-taxi-ride-fair-prediction-s3\")"
   ]
  },
  {
   "cell_type": "code",
   "execution_count": 27,
   "id": "f9e6479e",
   "metadata": {},
   "outputs": [],
   "source": [
    "def read_dataframe(filename):\n",
    "    \n",
    "    # Setup AWS S3 \n",
    "    session = boto3.Session(profile_name='default')\n",
    "    credentials = session.get_credentials()\n",
    "    aws_access_key_id = credentials.access_key\n",
    "    aws_secret_access_key = credentials.secret_key\n",
    "    region_name = session.region_name\n",
    "\n",
    "    fs = s3fs.S3FileSystem(\n",
    "        profile='default',\n",
    "        key=aws_access_key_id,\n",
    "        secret=aws_secret_access_key,\n",
    "        client_kwargs={\n",
    "        'region_name': region_name\n",
    "    }\n",
    "    )\n",
    "\n",
    "    # Read the TXT file using '|' as the delimiter and specifying the column names\n",
    "    df = pd.read_csv(filename, delimiter='|', storage_options=dict(profile='default'))\n",
    "\n",
    "    # Extract the required columns\n",
    "    df = df[['FAREAMOUNT', 'ORIGIN_BLOCK_LATITUDE', 'ORIGIN_BLOCK_LONGITUDE', 'DESTINATION_BLOCK_LATITUDE', 'DESTINATION_BLOCK_LONGITUDE', 'ORIGINDATETIME_TR']]\n",
    "\n",
    "    # Convert all headers to lowercase\n",
    "    df.columns = df.columns.str.lower()\n",
    "    \n",
    "    # Drop rows with missing values\n",
    "    df = df.dropna()\n",
    "    \n",
    "    # Print the resulting DataFrame\n",
    "    print(df.head(1))\n",
    "\n",
    "    return df"
   ]
  },
  {
   "cell_type": "code",
   "execution_count": 28,
   "id": "8029eba0",
   "metadata": {},
   "outputs": [
    {
     "name": "stdout",
     "output_type": "stream",
     "text": [
      "   fareamount  origin_block_latitude  origin_block_longitude   \n",
      "0        3.25              38.907734              -77.063516  \\\n",
      "\n",
      "   destination_block_latitude  destination_block_longitude origindatetime_tr  \n",
      "0                   38.907734                   -77.063516  01/01/2018 04:00  \n",
      "   fareamount  origin_block_latitude  origin_block_longitude   \n",
      "0         7.3              38.901486              -77.021916  \\\n",
      "\n",
      "   destination_block_latitude  destination_block_longitude origindatetime_tr  \n",
      "0                    38.89379                   -77.012491  02/06/2019 16:00  \n"
     ]
    }
   ],
   "source": [
    "S3_BUCKET_NAME = 'mlflow-artifacts-remote-ahm-amm'\n",
    "df_train = read_dataframe(f's3://{S3_BUCKET_NAME}/data/train/taxi_2018_01.txt')\n",
    "df_val = read_dataframe(f's3://{S3_BUCKET_NAME}/data/val/taxi_2019_02.txt')"
   ]
  },
  {
   "cell_type": "code",
   "execution_count": 29,
   "id": "f6f2f0eb",
   "metadata": {},
   "outputs": [
    {
     "data": {
      "text/plain": [
       "(510169, 437856)"
      ]
     },
     "execution_count": 29,
     "metadata": {},
     "output_type": "execute_result"
    }
   ],
   "source": [
    "len(df_train), len(df_val)"
   ]
  },
  {
   "cell_type": "code",
   "execution_count": 30,
   "id": "c5cbfc25",
   "metadata": {},
   "outputs": [],
   "source": [
    "def transform_data(df):\n",
    "    \n",
    "    # Convert ORIGINDATETIME_TR column to pandas datetime format\n",
    "    df['origindatetime_tr'] = pd.to_datetime(df['origindatetime_tr'])\n",
    "\n",
    "    # create new columns for month, day of week, and hour\n",
    "    df['month_integer'] = df['origindatetime_tr'].dt.month\n",
    "    df['dow_integer'] = df['origindatetime_tr'].dt.dayofweek\n",
    "    df['hour_integer'] = df['origindatetime_tr'].dt.hour\n",
    "    \n",
    "   # select the final required columns\n",
    "    df = df[['fareamount', 'origin_block_latitude', 'origin_block_longitude', 'destination_block_latitude', 'destination_block_longitude', \n",
    "             'month_integer', 'dow_integer', 'hour_integer']]\n",
    "    \n",
    "    return df"
   ]
  },
  {
   "cell_type": "code",
   "execution_count": 31,
   "id": "1e9fb68b",
   "metadata": {},
   "outputs": [],
   "source": [
    "df_train = transform_data(df_train)\n",
    "df_val = transform_data(df_val)\n",
    "categorical = ['month_integer', 'dow_integer', 'hour_integer']\n",
    "numerical = ['origin_block_latitude', 'origin_block_longitude', 'destination_block_latitude', 'destination_block_longitude']\n",
    "dv = DictVectorizer()\n",
    "train_dicts = df_train[categorical + numerical].to_dict(orient='records')\n",
    "X_train = dv.fit_transform(train_dicts)\n",
    "\n",
    "val_dicts = df_val[categorical + numerical].to_dict(orient='records')\n",
    "X_val = dv.transform(val_dicts)\n",
    "target = 'fareamount'\n",
    "y_train = df_train[target].values\n",
    "y_val = df_val[target].values"
   ]
  },
  {
   "cell_type": "code",
   "execution_count": 32,
   "id": "429e2394",
   "metadata": {},
   "outputs": [],
   "source": [
    "# Setup AWS S3 \n",
    "os.environ['AWS_PROFILE'] = 'default'\n",
    "session = boto3.Session(profile_name='default')\n",
    "credentials = session.get_credentials()\n",
    "aws_access_key_id = credentials.access_key\n",
    "aws_secret_access_key = credentials.secret_key\n",
    "region_name = session.region_name\n",
    "\n",
    "fs = s3fs.S3FileSystem(\n",
    "    profile='default',\n",
    "    key=aws_access_key_id,\n",
    "    secret=aws_secret_access_key,\n",
    "    client_kwargs={\n",
    "    'region_name': region_name\n",
    "}\n",
    ")\n",
    "\n",
    "with mlflow.start_run():\n",
    "    \n",
    "    mlflow.set_tag(\"developer\", \"ahmad\")\n",
    "    mlflow.set_tag(\"model\", \"lin_reg\")\n",
    "    \n",
    "    mlflow.log_param(\"train-data-path\", f's3://{S3_BUCKET_NAME}/data/train/taxi_2018_01.txt')\n",
    "    mlflow.log_param(\"valid-data-path\", f's3://{S3_BUCKET_NAME}/data/val/taxi_2019_02.txt')\n",
    "    \n",
    "    lr = LinearRegression()\n",
    "    lr.fit(X_train, y_train)\n",
    "\n",
    "    y_pred = lr.predict(X_val)\n",
    "\n",
    "    rmse = mean_squared_error(y_val, y_pred, squared=False)\n",
    "    mlflow.log_metric(\"rmse\", rmse)\n",
    "    \n",
    "    with open('models/lin_reg.bin', 'wb') as f_out:\n",
    "        pickle.dump((dv, lr), f_out)\n",
    "\n",
    "    mlflow.log_artifact(local_path=\"models/lin_reg.bin\", artifact_path=\"models_pickle\")"
   ]
  },
  {
   "cell_type": "code",
   "execution_count": 33,
   "id": "a4999b94",
   "metadata": {},
   "outputs": [],
   "source": [
    "with mlflow.start_run():\n",
    "\n",
    "    mlflow.set_tag(\"developer\", \"ahmad\")\n",
    "    mlflow.set_tag(\"model\", \"lasso\")\n",
    "\n",
    "    mlflow.log_param(\"train-data-path\", f's3://{S3_BUCKET_NAME}/data/train/taxi_2018_01.txt')\n",
    "    mlflow.log_param(\"valid-data-path\", f's3://{S3_BUCKET_NAME}/data/val/taxi_2019_02.txt')\n",
    "\n",
    "    alpha = 0.1\n",
    "    mlflow.log_param(\"alpha\", alpha)\n",
    "    lr = Lasso(alpha)\n",
    "    lr.fit(X_train, y_train)\n",
    "\n",
    "    y_pred = lr.predict(X_val)\n",
    "    rmse = mean_squared_error(y_val, y_pred, squared=False)\n",
    "    mlflow.log_metric(\"rmse\", rmse)\n",
    "    \n",
    "    with open('models/lasso.bin', 'wb') as f_out:\n",
    "        pickle.dump((dv, lr), f_out)\n",
    "\n",
    "    mlflow.log_artifact(local_path=\"models/lasso.bin\", artifact_path=\"models_pickle\")"
   ]
  },
  {
   "cell_type": "code",
   "execution_count": 34,
   "id": "5f56e97b",
   "metadata": {},
   "outputs": [],
   "source": [
    "import xgboost as xgb"
   ]
  },
  {
   "cell_type": "code",
   "execution_count": 35,
   "id": "907dc6a2",
   "metadata": {},
   "outputs": [],
   "source": [
    "from hyperopt import fmin, tpe, hp, STATUS_OK, Trials\n",
    "from hyperopt.pyll import scope"
   ]
  },
  {
   "cell_type": "code",
   "execution_count": 36,
   "id": "091ab328",
   "metadata": {},
   "outputs": [],
   "source": [
    "train = xgb.DMatrix(X_train, label=y_train)\n",
    "valid = xgb.DMatrix(X_val, label=y_val)"
   ]
  },
  {
   "cell_type": "code",
   "execution_count": 37,
   "id": "c2d84b26",
   "metadata": {},
   "outputs": [],
   "source": [
    "def objective(params):\n",
    "    with mlflow.start_run():\n",
    "        mlflow.set_tag(\"developer\", \"ahmad\")\n",
    "        mlflow.set_tag(\"model\", \"xgboost_hp\")\n",
    "        mlflow.log_param(\"train-data-path\", f's3://{S3_BUCKET_NAME}/data/train/taxi_2018_01.txt')\n",
    "        mlflow.log_param(\"valid-data-path\", f's3://{S3_BUCKET_NAME}/data/val/taxi_2019_02.txt')\n",
    "        mlflow.log_params(params)\n",
    "        booster = xgb.train(\n",
    "            params=params,\n",
    "            dtrain=train,\n",
    "            num_boost_round=1000,\n",
    "            evals=[(valid, 'validation')],\n",
    "            early_stopping_rounds=50\n",
    "        )\n",
    "        y_pred = booster.predict(valid)\n",
    "        rmse = mean_squared_error(y_val, y_pred, squared=False)\n",
    "        mlflow.log_metric(\"rmse\", rmse)\n",
    "\n",
    "    return {'loss': rmse, 'status': STATUS_OK}"
   ]
  },
  {
   "cell_type": "code",
   "execution_count": 38,
   "id": "6b1f77f5",
   "metadata": {},
   "outputs": [
    {
     "name": "stdout",
     "output_type": "stream",
     "text": [
      "[14:00:42] WARNING: ../src/objective/regression_obj.cu:213: reg:linear is now deprecated in favor of reg:squarederror.\n",
      "[0]\tvalidation-rmse:3.04882                          \n",
      "[1]\tvalidation-rmse:3.35421                          \n",
      "[2]\tvalidation-rmse:3.55322                          \n",
      "[3]\tvalidation-rmse:3.65334                          \n",
      "[4]\tvalidation-rmse:3.67241                          \n",
      "[5]\tvalidation-rmse:3.68230                          \n",
      "[6]\tvalidation-rmse:3.68538                          \n",
      "[7]\tvalidation-rmse:3.70879                          \n",
      "[8]\tvalidation-rmse:3.73099                          \n",
      "[9]\tvalidation-rmse:3.75012                          \n",
      "[10]\tvalidation-rmse:3.79057                         \n",
      "[11]\tvalidation-rmse:3.81051                         \n",
      "[12]\tvalidation-rmse:3.84637                         \n",
      "[13]\tvalidation-rmse:3.86388                         \n",
      "[14]\tvalidation-rmse:3.89568                         \n",
      "[15]\tvalidation-rmse:3.90946                         \n",
      "[16]\tvalidation-rmse:3.93414                         \n",
      "[17]\tvalidation-rmse:3.95004                         \n",
      "[18]\tvalidation-rmse:3.96626                         \n",
      "[19]\tvalidation-rmse:3.97600                         \n",
      "[20]\tvalidation-rmse:3.98694                         \n",
      "[21]\tvalidation-rmse:4.00337                         \n",
      "[22]\tvalidation-rmse:4.01776                         \n",
      "[23]\tvalidation-rmse:4.03190                         \n",
      "[24]\tvalidation-rmse:4.04131                         \n",
      "[25]\tvalidation-rmse:4.05148                         \n",
      "[26]\tvalidation-rmse:4.06351                         \n",
      "[27]\tvalidation-rmse:4.07303                         \n",
      "[28]\tvalidation-rmse:4.08191                         \n",
      "[29]\tvalidation-rmse:4.09168                         \n",
      "[30]\tvalidation-rmse:4.09565                         \n",
      "[31]\tvalidation-rmse:4.10309                         \n",
      "[32]\tvalidation-rmse:4.10654                         \n",
      "[33]\tvalidation-rmse:4.11266                         \n",
      "[34]\tvalidation-rmse:4.11935                         \n",
      "[35]\tvalidation-rmse:4.12675                         \n",
      "[36]\tvalidation-rmse:4.13226                         \n",
      "[37]\tvalidation-rmse:4.13901                         \n",
      "[38]\tvalidation-rmse:4.14433                         \n",
      "[39]\tvalidation-rmse:4.14908                         \n",
      "[40]\tvalidation-rmse:4.15409                         \n",
      "[41]\tvalidation-rmse:4.15768                         \n",
      "[42]\tvalidation-rmse:4.16146                         \n",
      "[43]\tvalidation-rmse:4.16509                         \n",
      "[44]\tvalidation-rmse:4.16861                         \n",
      "[45]\tvalidation-rmse:4.17212                         \n",
      "[46]\tvalidation-rmse:4.17477                         \n",
      "[47]\tvalidation-rmse:4.17736                         \n",
      "[48]\tvalidation-rmse:4.17944                         \n",
      "[49]\tvalidation-rmse:4.18298                         \n",
      "[14:03:33] WARNING: ../src/objective/regression_obj.cu:213: reg:linear is now deprecated in favor of reg:squarederror.\n",
      "[0]\tvalidation-rmse:8.52873                                                    \n",
      "[1]\tvalidation-rmse:7.70040                                                    \n",
      "[2]\tvalidation-rmse:6.96159                                                    \n",
      "[3]\tvalidation-rmse:6.30567                                                    \n",
      "[4]\tvalidation-rmse:5.72642                                                    \n",
      "[5]\tvalidation-rmse:5.21865                                                    \n",
      "[6]\tvalidation-rmse:4.77598                                                    \n",
      "[7]\tvalidation-rmse:4.39453                                                    \n",
      "[8]\tvalidation-rmse:4.07021                                                    \n",
      "[9]\tvalidation-rmse:3.79796                                                    \n",
      "[10]\tvalidation-rmse:3.57209                                                   \n",
      "[11]\tvalidation-rmse:3.38940                                                   \n",
      "[12]\tvalidation-rmse:3.24506                                                   \n",
      "[13]\tvalidation-rmse:3.13469                                                   \n",
      "[14]\tvalidation-rmse:3.05298                                                   \n",
      "[15]\tvalidation-rmse:2.99527                                                   \n",
      "[16]\tvalidation-rmse:2.95744                                                   \n",
      "[17]\tvalidation-rmse:2.93563                                                   \n",
      "[18]\tvalidation-rmse:2.92596                                                   \n",
      "[19]\tvalidation-rmse:2.92601                                                   \n",
      "[20]\tvalidation-rmse:2.93432                                                   \n",
      "[21]\tvalidation-rmse:2.94762                                                   \n",
      "[22]\tvalidation-rmse:2.96451                                                   \n",
      "[23]\tvalidation-rmse:2.98343                                                   \n",
      "[24]\tvalidation-rmse:3.00407                                                   \n",
      "[25]\tvalidation-rmse:3.02548                                                   \n",
      "[26]\tvalidation-rmse:3.04700                                                   \n",
      "[27]\tvalidation-rmse:3.06868                                                   \n",
      "[28]\tvalidation-rmse:3.09072                                                   \n",
      "[29]\tvalidation-rmse:3.11121                                                   \n",
      "[30]\tvalidation-rmse:3.13064                                                   \n",
      "[31]\tvalidation-rmse:3.14942                                                   \n",
      "[32]\tvalidation-rmse:3.16674                                                   \n",
      "[33]\tvalidation-rmse:3.18319                                                   \n",
      "[34]\tvalidation-rmse:3.19917                                                   \n",
      "[35]\tvalidation-rmse:3.21379                                                   \n",
      "[36]\tvalidation-rmse:3.22801                                                   \n",
      "[37]\tvalidation-rmse:3.24072                                                   \n",
      "[38]\tvalidation-rmse:3.25278                                                   \n",
      "[39]\tvalidation-rmse:3.26390                                                   \n",
      "[40]\tvalidation-rmse:3.27459                                                   \n",
      "[41]\tvalidation-rmse:3.28436                                                   \n",
      "[42]\tvalidation-rmse:3.29304                                                   \n",
      "[43]\tvalidation-rmse:3.30176                                                   \n",
      "[44]\tvalidation-rmse:3.30998                                                   \n",
      "[45]\tvalidation-rmse:3.31772                                                   \n",
      "[46]\tvalidation-rmse:3.32444                                                   \n",
      "[47]\tvalidation-rmse:3.33127                                                   \n",
      "[48]\tvalidation-rmse:3.33737                                                   \n",
      "[49]\tvalidation-rmse:3.34338                                                   \n",
      "[50]\tvalidation-rmse:3.34858                                                   \n",
      "[51]\tvalidation-rmse:3.35333                                                   \n",
      "[52]\tvalidation-rmse:3.35794                                                   \n",
      "[53]\tvalidation-rmse:3.36210                                                   \n",
      "[54]\tvalidation-rmse:3.36566                                                   \n",
      "[55]\tvalidation-rmse:3.36995                                                   \n",
      "[56]\tvalidation-rmse:3.37326                                                   \n",
      "[57]\tvalidation-rmse:3.37570                                                   \n",
      "[58]\tvalidation-rmse:3.37874                                                   \n",
      "[59]\tvalidation-rmse:3.38039                                                   \n",
      "[60]\tvalidation-rmse:3.38196                                                   \n",
      "[61]\tvalidation-rmse:3.38403                                                   \n",
      "[62]\tvalidation-rmse:3.38567                                                   \n",
      "[63]\tvalidation-rmse:3.38748                                                   \n",
      "[64]\tvalidation-rmse:3.38860                                                   \n",
      "[65]\tvalidation-rmse:3.39028                                                   \n",
      "[66]\tvalidation-rmse:3.39110                                                   \n",
      "[67]\tvalidation-rmse:3.39197                                                   \n",
      "[68]\tvalidation-rmse:3.39263                                                   \n",
      "100%|██████████| 2/2 [06:13<00:00, 186.82s/trial, best loss: 3.3926322943163845]\n"
     ]
    }
   ],
   "source": [
    "search_space = {\n",
    "    'max_depth': scope.int(hp.quniform('max_depth', 4, 100, 1)),\n",
    "    'learning_rate': hp.loguniform('learning_rate', -3, 0),\n",
    "    'reg_alpha': hp.loguniform('reg_alpha', -5, -1),\n",
    "    'reg_lambda': hp.loguniform('reg_lambda', -6, -1),\n",
    "    'min_child_weight': hp.loguniform('min_child_weight', -1, 3),\n",
    "    'objective': 'reg:linear',\n",
    "    'seed': 42\n",
    "}\n",
    "\n",
    "best_result = fmin(\n",
    "    fn=objective,\n",
    "    space=search_space,\n",
    "    algo=tpe.suggest,\n",
    "    max_evals=2,\n",
    "    trials=Trials()\n",
    ")"
   ]
  },
  {
   "cell_type": "code",
   "execution_count": 39,
   "id": "fc4d5283",
   "metadata": {},
   "outputs": [],
   "source": [
    "mlflow.xgboost.autolog(disable=True)"
   ]
  },
  {
   "cell_type": "code",
   "execution_count": 40,
   "id": "0e8cd729",
   "metadata": {},
   "outputs": [
    {
     "name": "stdout",
     "output_type": "stream",
     "text": [
      "[14:06:56] WARNING: ../src/objective/regression_obj.cu:213: reg:linear is now deprecated in favor of reg:squarederror.\n",
      "[0]\tvalidation-rmse:8.79371\n",
      "[1]\tvalidation-rmse:8.18415\n",
      "[2]\tvalidation-rmse:7.62279\n",
      "[3]\tvalidation-rmse:7.10710\n",
      "[4]\tvalidation-rmse:6.63526\n",
      "[5]\tvalidation-rmse:6.20314\n",
      "[6]\tvalidation-rmse:5.81021\n",
      "[7]\tvalidation-rmse:5.45470\n",
      "[8]\tvalidation-rmse:5.13491\n",
      "[9]\tvalidation-rmse:4.84497\n",
      "[10]\tvalidation-rmse:4.58846\n",
      "[11]\tvalidation-rmse:4.36063\n",
      "[12]\tvalidation-rmse:4.16574\n",
      "[13]\tvalidation-rmse:3.99199\n",
      "[14]\tvalidation-rmse:3.84131\n",
      "[15]\tvalidation-rmse:3.71492\n",
      "[16]\tvalidation-rmse:3.60798\n",
      "[17]\tvalidation-rmse:3.51935\n",
      "[18]\tvalidation-rmse:3.44682\n",
      "[19]\tvalidation-rmse:3.38840\n",
      "[20]\tvalidation-rmse:3.34429\n",
      "[21]\tvalidation-rmse:3.31131\n",
      "[22]\tvalidation-rmse:3.28810\n",
      "[23]\tvalidation-rmse:3.27328\n",
      "[24]\tvalidation-rmse:3.26523\n",
      "[25]\tvalidation-rmse:3.26371\n",
      "[26]\tvalidation-rmse:3.26910\n",
      "[27]\tvalidation-rmse:3.27535\n"
     ]
    }
   ],
   "source": [
    "with mlflow.start_run():\n",
    "    mlflow.set_tag(\"developer\", \"ahmad\")\n",
    "    mlflow.set_tag(\"model\", \"xgboost_best\")\n",
    "    mlflow.log_param(\"train-data-path\", f's3://{S3_BUCKET_NAME}/data/train/taxi_2018_01.txt')\n",
    "    mlflow.log_param(\"valid-data-path\", f's3://{S3_BUCKET_NAME}/data/val/taxi_2019_02.txt')\n",
    "    train = xgb.DMatrix(X_train, label=y_train)\n",
    "    valid = xgb.DMatrix(X_val, label=y_val)\n",
    "\n",
    "    best_params = {\n",
    "        'learning_rate': 0.06616271954179277,\n",
    "        'max_depth': 93,\n",
    "        'min_child_weight': 1.3860036417852704,\n",
    "        'objective': 'reg:linear',\n",
    "        'reg_alpha': 0.2359754703964827,\n",
    "        'reg_lambda': 0.01562195969570609,\n",
    "        'seed': 42\n",
    "    }\n",
    "\n",
    "    mlflow.log_params(best_params)\n",
    "\n",
    "    booster = xgb.train(\n",
    "        params=best_params,\n",
    "        dtrain=train,\n",
    "        num_boost_round=1000,\n",
    "        evals=[(valid, 'validation')],\n",
    "        early_stopping_rounds=2\n",
    "    )\n",
    "\n",
    "    y_pred = booster.predict(valid)\n",
    "    rmse = mean_squared_error(y_val, y_pred, squared=False)\n",
    "    mlflow.log_metric(\"rmse\", rmse)\n",
    "\n",
    "    with open(\"models/preprocessor.b\", \"wb\") as f_out:\n",
    "        pickle.dump(dv, f_out)\n",
    "    mlflow.log_artifact(\"models/preprocessor.b\", artifact_path=\"preprocessor\")\n",
    "    \n",
    "    with open('models/xgboost_best.bin', 'wb') as f_out:\n",
    "        pickle.dump((booster), f_out)\n",
    "\n",
    "    mlflow.xgboost.log_model(booster, artifact_path=\"models_mlflow\")"
   ]
  },
  {
   "cell_type": "code",
   "execution_count": null,
   "id": "49cc6517",
   "metadata": {},
   "outputs": [],
   "source": []
  }
 ],
 "metadata": {
  "hide_input": false,
  "interpreter": {
   "hash": "0848c9d6c7d415ad6c477ff7ff8e98694d1a4aa96d0deee89244642e6b630036"
  },
  "kernelspec": {
   "display_name": "Python 3 (ipykernel)",
   "language": "python",
   "name": "python3"
  },
  "language_info": {
   "codemirror_mode": {
    "name": "ipython",
    "version": 3
   },
   "file_extension": ".py",
   "mimetype": "text/x-python",
   "name": "python",
   "nbconvert_exporter": "python",
   "pygments_lexer": "ipython3",
   "version": "3.10.9"
  }
 },
 "nbformat": 4,
 "nbformat_minor": 5
}
